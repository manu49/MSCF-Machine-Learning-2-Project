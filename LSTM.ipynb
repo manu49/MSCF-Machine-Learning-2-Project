{
 "cells": [
  {
   "cell_type": "code",
   "execution_count": 833,
   "id": "021aa9ea",
   "metadata": {},
   "outputs": [],
   "source": [
    "import torch\n",
    "import torch.nn as nn\n",
    "import torch.nn.functional as F\n",
    "import torch.optim as optim\n",
    "import numpy as np\n",
    "import matplotlib.pyplot as plt\n",
    "import pandas as pd\n",
    "import sklearn.model_selection\n",
    "import itertools\n",
    "import statsmodels.api as sm\n",
    "import warnings\n",
    "import pandas as pd\n",
    "import yfinance as yf\n",
    "import numpy as np\n",
    "import matplotlib\n",
    "import matplotlib.pyplot as plt\n",
    "from sklearn.ensemble import RandomForestRegressor\n",
    "from sklearn.model_selection import train_test_split\n",
    "from sklearn.model_selection import GridSearchCV\n",
    "from sklearn.metrics import mean_absolute_error\n",
    "from sklearn.metrics import r2_score\n",
    "from pypfopt.efficient_frontier import EfficientFrontier"
   ]
  },
  {
   "cell_type": "code",
   "execution_count": 834,
   "id": "e2014451",
   "metadata": {},
   "outputs": [
    {
     "name": "stdout",
     "output_type": "stream",
     "text": [
      "[*********************100%***********************]  1 of 1 completed\n"
     ]
    },
    {
     "data": {
      "text/html": [
       "<div>\n",
       "<style scoped>\n",
       "    .dataframe tbody tr th:only-of-type {\n",
       "        vertical-align: middle;\n",
       "    }\n",
       "\n",
       "    .dataframe tbody tr th {\n",
       "        vertical-align: top;\n",
       "    }\n",
       "\n",
       "    .dataframe thead th {\n",
       "        text-align: right;\n",
       "    }\n",
       "</style>\n",
       "<table border=\"1\" class=\"dataframe\">\n",
       "  <thead>\n",
       "    <tr style=\"text-align: right;\">\n",
       "      <th></th>\n",
       "      <th>annualized</th>\n",
       "      <th>daily</th>\n",
       "    </tr>\n",
       "    <tr>\n",
       "      <th>Date</th>\n",
       "      <th></th>\n",
       "      <th></th>\n",
       "    </tr>\n",
       "  </thead>\n",
       "  <tbody>\n",
       "    <tr>\n",
       "      <th>2010-01-04</th>\n",
       "      <td>0.00055</td>\n",
       "      <td>0.000001</td>\n",
       "    </tr>\n",
       "    <tr>\n",
       "      <th>2010-01-05</th>\n",
       "      <td>0.00060</td>\n",
       "      <td>0.000002</td>\n",
       "    </tr>\n",
       "    <tr>\n",
       "      <th>2010-01-06</th>\n",
       "      <td>0.00045</td>\n",
       "      <td>0.000001</td>\n",
       "    </tr>\n",
       "    <tr>\n",
       "      <th>2010-01-07</th>\n",
       "      <td>0.00045</td>\n",
       "      <td>0.000001</td>\n",
       "    </tr>\n",
       "    <tr>\n",
       "      <th>2010-01-08</th>\n",
       "      <td>0.00040</td>\n",
       "      <td>0.000001</td>\n",
       "    </tr>\n",
       "    <tr>\n",
       "      <th>...</th>\n",
       "      <td>...</td>\n",
       "      <td>...</td>\n",
       "    </tr>\n",
       "    <tr>\n",
       "      <th>2019-12-23</th>\n",
       "      <td>0.01520</td>\n",
       "      <td>0.000025</td>\n",
       "    </tr>\n",
       "    <tr>\n",
       "      <th>2019-12-24</th>\n",
       "      <td>0.01538</td>\n",
       "      <td>0.000026</td>\n",
       "    </tr>\n",
       "    <tr>\n",
       "      <th>2019-12-26</th>\n",
       "      <td>0.01535</td>\n",
       "      <td>0.000026</td>\n",
       "    </tr>\n",
       "    <tr>\n",
       "      <th>2019-12-27</th>\n",
       "      <td>0.01518</td>\n",
       "      <td>0.000025</td>\n",
       "    </tr>\n",
       "    <tr>\n",
       "      <th>2019-12-30</th>\n",
       "      <td>0.01490</td>\n",
       "      <td>0.000025</td>\n",
       "    </tr>\n",
       "  </tbody>\n",
       "</table>\n",
       "<p>2512 rows × 2 columns</p>\n",
       "</div>"
      ],
      "text/plain": [
       "            annualized     daily\n",
       "Date                            \n",
       "2010-01-04     0.00055  0.000001\n",
       "2010-01-05     0.00060  0.000002\n",
       "2010-01-06     0.00045  0.000001\n",
       "2010-01-07     0.00045  0.000001\n",
       "2010-01-08     0.00040  0.000001\n",
       "...                ...       ...\n",
       "2019-12-23     0.01520  0.000025\n",
       "2019-12-24     0.01538  0.000026\n",
       "2019-12-26     0.01535  0.000026\n",
       "2019-12-27     0.01518  0.000025\n",
       "2019-12-30     0.01490  0.000025\n",
       "\n",
       "[2512 rows x 2 columns]"
      ]
     },
     "execution_count": 834,
     "metadata": {},
     "output_type": "execute_result"
    }
   ],
   "source": [
    "# de-annualize yearly interest rates\n",
    "def deannualize(annual_rate, periods=365):\n",
    "    return (1 + annual_rate) ** (1/periods) - 1\n",
    "\n",
    "def get_risk_free_rate():\n",
    "    # download 3-month us treasury bills rates\n",
    "    annualized = yf.download(\"^IRX\", start=\"2010-01-01\", end=\"2019-12-31\")[\"Adj Close\"]\n",
    "    \n",
    "    # de-annualiz\n",
    "    daily = annualized.apply(deannualize)\n",
    "\n",
    "    # create dataframe\n",
    "    return pd.DataFrame({\"annualized\": annualized, \"daily\": daily}) \n",
    "\n",
    "rates = get_risk_free_rate()/100\n",
    "rates"
   ]
  },
  {
   "cell_type": "code",
   "execution_count": 835,
   "id": "6a3e0eaa",
   "metadata": {},
   "outputs": [],
   "source": [
    "table=pd.read_html('https://en.wikipedia.org/wiki/List_of_S%26P_500_companies')\n",
    "df = table[0]\n",
    "df = df[df[\"Date added\"] <= \"2010\"]\n",
    "df2 = df.groupby('GICS Sector', as_index=False).nth([0,1,2,3,4])"
   ]
  },
  {
   "cell_type": "code",
   "execution_count": 836,
   "id": "1870346a",
   "metadata": {},
   "outputs": [
    {
     "name": "stdout",
     "output_type": "stream",
     "text": [
      "[*********************100%***********************]  54 of 54 completed\n"
     ]
    }
   ],
   "source": [
    "l = list(df2['Symbol'])\n",
    "l.remove(\"BF.B\")\n",
    "data = yf.download(l, start=\"2011-01-01\", end=\"2019-12-31\", interval=\"1d\")\n",
    "data = data['Adj Close']\n",
    "data = data.pct_change()\n",
    "data = data.dropna()\n",
    "data\n",
    "None"
   ]
  },
  {
   "cell_type": "code",
   "execution_count": 837,
   "id": "47bb8718",
   "metadata": {},
   "outputs": [],
   "source": [
    "data_df = data.copy()\n",
    "data_df\n",
    "None"
   ]
  },
  {
   "cell_type": "code",
   "execution_count": 838,
   "id": "07988c93",
   "metadata": {},
   "outputs": [],
   "source": [
    "'''\n",
    "data_tr = data[data.index < \"2014-05-07\"]\n",
    "data_dv = data[(data.index >= \"2014-05-07\")&(data.index < \"2015-08-31\")]\n",
    "data_tst = data[data.index >= \"2015-08-31\"]\n",
    "'''\n",
    "data_tr = data[data.index < \"2015\"]\n",
    "data_dv = data[(data.index >= \"2015\")&(data.index < \"2016\")]\n",
    "data_tst = data[data.index >= \"2016\"]\n"
   ]
  },
  {
   "cell_type": "code",
   "execution_count": 840,
   "id": "f04bdbbb",
   "metadata": {},
   "outputs": [],
   "source": [
    "X_tr = np.log(1+np.array(data_tr).transpose()).astype(\"float32\")\n",
    "X_tst = np.log(1+np.array(data_tst).transpose()).astype(\"float32\")\n",
    "X_dv = np.log(1+np.array(data_dv).transpose()).astype(\"float32\")\n"
   ]
  },
  {
   "cell_type": "code",
   "execution_count": 841,
   "id": "2a453cae",
   "metadata": {},
   "outputs": [],
   "source": [
    "X_input_tr = X_tr[:,:,None]\n",
    "X_input_tst = X_tst[:,:,None]\n",
    "X_input_dv = X_dv[:,:,None]"
   ]
  },
  {
   "cell_type": "code",
   "execution_count": 842,
   "id": "76a2bc9d",
   "metadata": {},
   "outputs": [],
   "source": [
    "train_loader = torch.utils.data.DataLoader(X_input_tr, batch_size=1, shuffle=True)\n",
    "test_loader = torch.utils.data.DataLoader(X_input_tst, batch_size = X_tst.shape[0],shuffle=True)\n",
    "dev_loader = torch.utils.data.DataLoader(X_input_dv, batch_size = X_tst.shape[0],shuffle=True)"
   ]
  },
  {
   "cell_type": "code",
   "execution_count": 843,
   "id": "b9bb6bdf",
   "metadata": {},
   "outputs": [],
   "source": [
    "data_inf = data[data.index < \"2016\"]\n",
    "X_inf = np.log(1+np.array(data_inf).transpose()).astype(\"float32\")\n",
    "X_input_inf = X_inf[:,:,None]\n",
    "inf_loader = torch.utils.data.DataLoader(X_input_inf, batch_size = X_input_inf.shape[0],shuffle=True)\n",
    "inf_batch = next(inf_loader.__iter__())\n",
    "inf_batch.shape\n",
    "inf1 = inf_loader"
   ]
  },
  {
   "cell_type": "code",
   "execution_count": 844,
   "id": "ccdb53f5",
   "metadata": {},
   "outputs": [],
   "source": [
    "data_inf = data[data.index >= \"2015\"]\n",
    "X_inf = np.log(1+np.array(data_inf).transpose()).astype(\"float32\")\n",
    "X_input_inf = X_inf[:,:,None]\n",
    "inf_loader = torch.utils.data.DataLoader(X_input_inf, batch_size = X_input_inf.shape[0],shuffle=True)\n",
    "inf_batch = next(inf_loader.__iter__())\n",
    "inf_batch.shape\n",
    "inf2 = inf_loader"
   ]
  },
  {
   "cell_type": "code",
   "execution_count": 845,
   "id": "c0f8a409",
   "metadata": {},
   "outputs": [],
   "source": [
    "example_batch = next(inf_loader.__iter__())\n",
    "#example_batch\n",
    "#example_batch = next(test_loader.__iter__())\n",
    "#example_batch.shape"
   ]
  },
  {
   "cell_type": "code",
   "execution_count": 864,
   "id": "9dd80d49",
   "metadata": {},
   "outputs": [],
   "source": [
    "class pred_lstm(nn.Module):\n",
    "    def __init__(self):\n",
    "        super().__init__()\n",
    "        self.input_size = 1\n",
    "        self.hidden_units = 5\n",
    "        \n",
    "        self.num_layers = 4\n",
    "        \n",
    "        self.lstm = nn.LSTM(\n",
    "            input_size = self.input_size, \n",
    "            hidden_size = self.hidden_units, \n",
    "            num_layers = self.num_layers, \n",
    "            bidirectional = False,\n",
    "            batch_first=True)        \n",
    "        '''\n",
    "        self.lstm = nn.RNN(\n",
    "            input_size=self.input_size, # because x is in R^1\n",
    "            hidden_size=self.hidden_units, # we'll try a 10-dimensional hidden state\n",
    "            nonlinearity=\"relu\", # use ReLU for the activation to the hidden state\n",
    "            batch_first=True, # tell RNN our data X has the observation as its first dimension, not its second\n",
    "        )\n",
    "        '''\n",
    "        \n",
    "        # Now convert the 10-dimensional hidden state to a 1-dimensional output\n",
    "        self.linear = nn.Linear(in_features = self.hidden_units , \n",
    "                                out_features = 1)\n",
    "    def forward(self, x):\n",
    "        # notice that the layer returns a tuple -- it also provides the final hidden states.\n",
    "        # We don't need those here, and this interferes with using nn.Sequential(), because\n",
    "        # the linear layer does not expect a tuple as input.\n",
    "        lstm_out, hidden_states = self.lstm(x) \n",
    "        return self.linear(lstm_out)"
   ]
  },
  {
   "cell_type": "code",
   "execution_count": 865,
   "id": "fee989c6",
   "metadata": {},
   "outputs": [],
   "source": [
    "def train(network, optimizer, train_loader, test_loader, n_epochs=3, log_interval=50, verbose=False):\n",
    "    \"\"\"Train a network with a particular optimizer.\n",
    "    \n",
    "    network: a `nn.Module` object representing the neural network to train\n",
    "    optimizer: a PyTorch optimizer, such as SGD\n",
    "    train_loader: a `DataLoader` object containing the training data, potentially in batches\n",
    "    test_loader: the same, but for the testing data\n",
    "    n_epochs: number of epochs of training to run\n",
    "    log_interval: after how many batches should record our progress?\n",
    "    verbose: print the progress after each log_interval steps?\n",
    "    \n",
    "    Returns a tuple (train_losses, counter, test_losses). train_losses is a list of \n",
    "    losses after every log_interval training steps; train_counter is a list giving the number\n",
    "    of training observations seen by the training process by each of those steps; test_losses\n",
    "    gives the test-set loss before each epoch and after the final epoch; test_counter gives\n",
    "    the number of training observations seen at each epoch.\n",
    "    \"\"\"\n",
    "    \n",
    "    # Store the losses we observe during training\n",
    "    train_losses = []\n",
    "    test_losses = []\n",
    "    train_counter = []\n",
    "    test_counter = []\n",
    "    \n",
    "    samples_seen = 0 # number of observations used in training\n",
    "    \n",
    "    for epoch in range(n_epochs):\n",
    "        #print(\"new_epoch\")\n",
    "        # test at the beginning of each epoch\n",
    "        test_loss = test(network, test_loader)\n",
    "        test_losses.append(test_loss)\n",
    "        test_counter.append(samples_seen)\n",
    "        \n",
    "        network.train() # put the network in training mode\n",
    "\n",
    "        for batch_idx, data in enumerate(train_loader):\n",
    "            # Reset all gradients\n",
    "            optimizer.zero_grad()\n",
    "    \n",
    "            # data is now a (N, L, 1) matrix. Let's get the network's predictions using L-1 of the samples\n",
    "            predictions = network(data[:, :-1, :])\n",
    "    \n",
    "            # Get the MAE loss on predicting the next observation\n",
    "            loss = F.mse_loss(predictions, data[:, 1:, :])\n",
    "    \n",
    "            # Calculate the gradients with backpropagation\n",
    "            loss.backward()\n",
    "    \n",
    "            # Perform one gradient descent step\n",
    "            optimizer.step()\n",
    "\n",
    "            # Count how much data we've seen\n",
    "            samples_seen += len(data)\n",
    "            \n",
    "            # Every log_interval steps, print out the progress\n",
    "            if batch_idx % log_interval == 0:\n",
    "                if verbose:\n",
    "                    print('Train Epoch: {} [{}/{} ({:.0f}%)]\\tLoss: {:.6f}'.format(\n",
    "                        epoch + 1, batch_idx * len(data), len(train_loader.dataset),\n",
    "                        100.0 * batch_idx / len(train_loader), loss.item()))\n",
    "                \n",
    "                train_losses.append(loss.item())\n",
    "                train_counter.append(samples_seen)\n",
    "                \n",
    "\n",
    "    # test after the final epoch\n",
    "    test_loss = test(network, test_loader)\n",
    "    test_losses.append(test_loss)\n",
    "    test_counter.append(samples_seen)\n",
    "\n",
    "    return train_losses, train_counter, test_losses, test_counter"
   ]
  },
  {
   "cell_type": "code",
   "execution_count": 866,
   "id": "56b92bea",
   "metadata": {},
   "outputs": [],
   "source": [
    "def test(network, loader):\n",
    "    \"\"\"Test a network model on the test data.\n",
    "    \n",
    "    network: a `nn.Module` object representing the neural network to test\n",
    "    loader: a `DataLoader` object containing the testing data, potentially in batches\n",
    "    \n",
    "    Returns the average loss on the test data.\n",
    "    \"\"\"\n",
    "    \n",
    "    # Put the network in evaluation mode\n",
    "    network.eval()\n",
    "    \n",
    "    test_loss = 0\n",
    "    \n",
    "    # don't track gradients during this calculation\n",
    "    with torch.no_grad():\n",
    "        for data in loader:\n",
    "            output = network(data[:, :-1, :])\n",
    "            \n",
    "            # calculate the absolute loss on this batch\n",
    "            test_loss += F.mse_loss(output, data[:, 1:, :], reduction='sum').item()\n",
    "\n",
    "    # get the overall loss across all batches\n",
    "    test_loss /= len(loader.dataset)\n",
    "    \n",
    "    return test_loss"
   ]
  },
  {
   "cell_type": "code",
   "execution_count": 867,
   "id": "8bdde20c",
   "metadata": {},
   "outputs": [],
   "source": [
    "def test_pred(network,loader):\n",
    "    network.eval()\n",
    "    output_arr = []\n",
    "    # don't track gradients during this calculation\n",
    "    with torch.no_grad():\n",
    "        for data in loader:\n",
    "            output = network(data)\n",
    "            output_arr.append(output)\n",
    "    if len(output_arr) == 1:\n",
    "        return output_arr[0]\n",
    "    else:\n",
    "        return output_arr"
   ]
  },
  {
   "cell_type": "code",
   "execution_count": 868,
   "id": "281e8915",
   "metadata": {},
   "outputs": [],
   "source": [
    "lstm_network = pred_lstm()\n",
    "optimizer = optim.RMSprop(lstm_network.parameters())"
   ]
  },
  {
   "cell_type": "code",
   "execution_count": 869,
   "id": "5e894382",
   "metadata": {},
   "outputs": [
    {
     "name": "stdout",
     "output_type": "stream",
     "text": [
      "Train Epoch: 1 [0/54 (0%)]\tLoss: 0.105977\n",
      "Train Epoch: 1 [50/54 (93%)]\tLoss: 0.000207\n",
      "Train Epoch: 2 [0/54 (0%)]\tLoss: 0.000250\n",
      "Train Epoch: 2 [50/54 (93%)]\tLoss: 0.000817\n",
      "CPU times: total: 5min 23s\n",
      "Wall time: 3min 11s\n"
     ]
    }
   ],
   "source": [
    "%%time\n",
    "train_losses, train_counter, test_losses, test_counter = train(\n",
    "    lstm_network, optimizer, train_loader, dev_loader, n_epochs=2, log_interval = 50, verbose=True) #50 later"
   ]
  },
  {
   "cell_type": "code",
   "execution_count": 871,
   "id": "05243f93",
   "metadata": {},
   "outputs": [
    {
     "data": {
      "image/png": "[encoded data removed]",
      "text/plain": [
       "<Figure size 432x288 with 1 Axes>"
      ]
     },
     "metadata": {
      "needs_background": "light"
     },
     "output_type": "display_data"
    }
   ],
   "source": [
    "plt.plot(train_counter, train_losses,label = \"train loss\")\n",
    "plt.scatter(test_counter, test_losses,label = \"dev loss\")\n",
    "plt.legend()\n",
    "plt.xlabel(\"Observations seen\")\n",
    "plt.ylabel(\"MSE loss\")\n",
    "plt.title(\"Learning curve\");"
   ]
  },
  {
   "cell_type": "code",
   "execution_count": 872,
   "id": "e82137df",
   "metadata": {},
   "outputs": [],
   "source": [
    "def returns(actual_returns, weights):\n",
    "    return np.dot(actual_returns.T, weights)\n",
    "\n",
    "def portfolio_optimize(predicted_returns, variances, risk_free):\n",
    "    ef = EfficientFrontier(predicted_returns, variances, weight_bounds = (0,1))\n",
    "    weights = ef.max_sharpe(risk_free_rate = risk_free)  \n",
    "    \n",
    "    tangencyweights = []\n",
    "    for i in weights.values():\n",
    "        tangencyweights.append(float(i))\n",
    "    \n",
    "    tangencyweights = np.array(tangencyweights)\n",
    "    return tangencyweights\n",
    "\n",
    "def wrapper(input_features, predicted_returns, actual_returns, risk_free):\n",
    "    variances = np.cov(input_features)\n",
    "    weights = portfolio_optimize(predicted_returns, variances, risk_free)  \n",
    "    return returns(actual_returns, weights)\n"
   ]
  },
  {
   "cell_type": "code",
   "execution_count": 873,
   "id": "e4e58a41",
   "metadata": {},
   "outputs": [
    {
     "data": {
      "text/plain": [
       "torch.Size([54, 1257, 1])"
      ]
     },
     "execution_count": 873,
     "metadata": {},
     "output_type": "execute_result"
    }
   ],
   "source": [
    "cur_batch.shape"
   ]
  },
  {
   "cell_type": "code",
   "execution_count": 874,
   "id": "a40dea87",
   "metadata": {},
   "outputs": [],
   "source": [
    "#extrinsic performance for dev set\n",
    "cur_loader = inf2\n",
    "cur_batch = next(cur_loader.__iter__())\n",
    "cur_data = X_tst\n",
    "preds = test_pred(lstm_network,cur_loader)\n",
    "preds_req = preds[:,-1*(cur_data.shape[1]):,0]\n",
    "#convert to exp to get back to normal numbers\n",
    "pred_returns = np.exp(preds_req.detach().numpy())-1\n",
    "act_returns = np.exp(cur_batch[:,-1*(cur_data.shape[1]):,0].detach().numpy())-1"
   ]
  },
  {
   "cell_type": "code",
   "execution_count": 875,
   "id": "d7219bd4",
   "metadata": {},
   "outputs": [],
   "source": [
    "results = []\n",
    "for i in range(cur_data.shape[1]):  \n",
    "    if i < 61:\n",
    "        continue\n",
    "    input_features = cur_data[:,i-60:i]\n",
    "    predicted_returns = pred_returns[:,i-1].reshape(cur_data.shape[0],1)\n",
    "    actual_returns = act_returns[:,i].reshape(cur_data.shape[0],1)\n",
    "    try:\n",
    "        date = data_tst.iloc[i-1].name\n",
    "        rf_rate = rates['daily'][date]\n",
    "    except:\n",
    "        rf_rate = rates['daily'][data_tst.iloc[i-2].name]\n",
    "    try:\n",
    "        results.append(wrapper(input_features, predicted_returns, actual_returns, rf_rate))\n",
    "    except:\n",
    "        results.append(wrapper(cur_data[:,i-61:i-1], pred_returns[:,i-2].reshape(cur_data.shape[0],1), actual_returns, rf_rate))            \n",
    "    \n",
    "rst = [l[0] for l in results]\n",
    "cumulative_returns = np.cumprod(np.array(rst) + 1)"
   ]
  },
  {
   "cell_type": "code",
   "execution_count": 876,
   "id": "5c213e84",
   "metadata": {},
   "outputs": [
    {
     "data": {
      "image/png": "[encoded data removed]",
      "text/plain": [
       "<Figure size 576x432 with 1 Axes>"
      ]
     },
     "metadata": {
      "needs_background": "light"
     },
     "output_type": "display_data"
    }
   ],
   "source": [
    "fig = plt.figure(figsize=(8,6))\n",
    "#plt.plot(dates[-1092:], svr_cumulative_returns)\n",
    "plt.plot(range(len(cumulative_returns)), cumulative_returns)\n",
    "#plt.xlabel('Time')\n",
    "plt.xticks(rotation = 'vertical', fontsize=8)\n",
    "plt.ylabel('Cumulative Returns(test set)')\n",
    "plt.yticks(fontsize=8)\n",
    "plt.title('Test Performance of RNN over Time')\n",
    "plt.show()"
   ]
  },
  {
   "cell_type": "code",
   "execution_count": 877,
   "id": "76d5c7b0",
   "metadata": {},
   "outputs": [],
   "source": [
    "\n",
    "final = preds.detach().numpy()\n",
    "final = final[:,-1093:-1,:]"
   ]
  },
  {
   "cell_type": "code",
   "execution_count": 878,
   "id": "70777b9e",
   "metadata": {},
   "outputs": [],
   "source": [
    "blah = pd.DataFrame({\"lstm\" : final.reshape(-1)})\n",
    "blah.to_csv(\"RNN.csv\")\n"
   ]
  },
  {
   "cell_type": "code",
   "execution_count": 879,
   "id": "8de2af69",
   "metadata": {},
   "outputs": [
    {
     "data": {
      "text/plain": [
       "(58968, 1)"
      ]
     },
     "execution_count": 879,
     "metadata": {},
     "output_type": "execute_result"
    }
   ],
   "source": [
    "blah.shape"
   ]
  },
  {
   "cell_type": "code",
   "execution_count": 861,
   "id": "497aedf5",
   "metadata": {},
   "outputs": [],
   "source": [
    "#extrinsic performance for dev set\n",
    "cur_loader = inf1\n",
    "cur_batch = next(cur_loader.__iter__())\n",
    "cur_data = X_dv\n",
    "preds = test_pred(lstm_network,cur_loader)\n",
    "preds_req = preds[:,-1*(cur_data.shape[1]):,0]\n",
    "#convert to exp to get back to normal numbers\n",
    "pred_returns = np.exp(preds_req.detach().numpy())-1\n",
    "act_returns = np.exp(cur_batch[:,-1*(cur_data.shape[1]):,0].detach().numpy())-1"
   ]
  },
  {
   "cell_type": "code",
   "execution_count": 862,
   "id": "9e66a702",
   "metadata": {},
   "outputs": [],
   "source": [
    "results = []\n",
    "for i in range(cur_data.shape[1]):  \n",
    "    if i < 61:\n",
    "        continue\n",
    "    input_features = cur_data[:,i-60:i]\n",
    "    predicted_returns = pred_returns[:,i-1].reshape(cur_data.shape[0],1)\n",
    "    actual_returns = act_returns[:,i].reshape(cur_data.shape[0],1)\n",
    "    try:\n",
    "        date = data_tst.iloc[i-1].name\n",
    "        rf_rate = rates['daily'][date]\n",
    "    except:\n",
    "        rf_rate = rates['daily'][data_dv.iloc[i-2].name]\n",
    "    try:\n",
    "        results.append(wrapper(input_features, predicted_returns, actual_returns, rf_rate))\n",
    "    except:\n",
    "        results.append(wrapper(cur_data[:,i-61:i-1], pred_returns[:,i-2].reshape(cur_data.shape[0],1), actual_returns, rf_rate))            \n",
    "    \n",
    "rst = [l[0] for l in results]\n",
    "cumulative_returns = np.cumprod(np.array(rst) + 1)"
   ]
  },
  {
   "cell_type": "code",
   "execution_count": 863,
   "id": "0f0064e9",
   "metadata": {},
   "outputs": [
    {
     "data": {
      "image/png": "[encoded data removed]",
      "text/plain": [
       "<Figure size 576x432 with 1 Axes>"
      ]
     },
     "metadata": {
      "needs_background": "light"
     },
     "output_type": "display_data"
    }
   ],
   "source": [
    "fig = plt.figure(figsize=(8,6))\n",
    "#plt.plot(dates[-1092:], svr_cumulative_returns)\n",
    "plt.plot(range(len(cumulative_returns)), cumulative_returns)\n",
    "#plt.xlabel('Time')\n",
    "plt.xticks(rotation = 'vertical', fontsize=8)\n",
    "plt.ylabel('Cumulative Returns(dev set)')\n",
    "plt.yticks(fontsize=8)\n",
    "plt.title('Test Performance of RNN over Time')\n",
    "plt.show()"
   ]
  },
  {
   "cell_type": "code",
   "execution_count": null,
   "id": "52430368",
   "metadata": {},
   "outputs": [],
   "source": []
  }
 ],
 "metadata": {
  "kernelspec": {
   "display_name": "Python 3 (ipykernel)",
   "language": "python",
   "name": "python3"
  },
  "language_info": {
   "codemirror_mode": {
    "name": "ipython",
    "version": 3
   },
   "file_extension": ".py",
   "mimetype": "text/x-python",
   "name": "python",
   "nbconvert_exporter": "python",
   "pygments_lexer": "ipython3",
   "version": "3.9.12"
  }
 },
 "nbformat": 4,
 "nbformat_minor": 5
}
